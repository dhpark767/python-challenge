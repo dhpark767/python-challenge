{
 "cells": [
  {
   "cell_type": "code",
   "execution_count": 4,
   "id": "cb430560",
   "metadata": {},
   "outputs": [],
   "source": [
    "#Import OS and CSV\n",
    "import os\n",
    "import csv\n",
    "cwd = os.getcwd()\n",
    "file = os.path.join(cwd, 'Resources', 'election_data.csv')\n",
    "output = os.path.join(\"Resources\", \"Analysis\")"
   ]
  },
  {
   "cell_type": "code",
   "execution_count": 5,
   "id": "e1a3f59d",
   "metadata": {},
   "outputs": [
    {
     "name": "stdout",
     "output_type": "stream",
     "text": [
      "<_csv.reader object at 0x000002499DE3DE20>\n",
      "Election Results\n",
      "----------------------\n",
      "Total Votes: 3521001\n",
      "Khan : 63.000% (2218231)\n",
      "Correy : 20.000% (704200)\n",
      "Li : 14.000% (492940)\n",
      "O'Tooley : 3.000% (105630)\n",
      "----------------------\n",
      "Election Winner: Khan\n",
      "----------------------\n"
     ]
    },
    {
     "ename": "FileNotFoundError",
     "evalue": "[Errno 2] No such file or directory: '../PyPoll/Analysis\\\\Analysis.txt'",
     "output_type": "error",
     "traceback": [
      "\u001b[1;31m---------------------------------------------------------------------------\u001b[0m",
      "\u001b[1;31mFileNotFoundError\u001b[0m                         Traceback (most recent call last)",
      "\u001b[1;32m<ipython-input-5-780f59b3a0fb>\u001b[0m in \u001b[0;36m<module>\u001b[1;34m\u001b[0m\n\u001b[0;32m     60\u001b[0m \u001b[0moutput_file\u001b[0m \u001b[1;33m=\u001b[0m \u001b[0mos\u001b[0m\u001b[1;33m.\u001b[0m\u001b[0mpath\u001b[0m\u001b[1;33m.\u001b[0m\u001b[0mjoin\u001b[0m\u001b[1;33m(\u001b[0m\u001b[1;34m'../PyPoll/Analysis'\u001b[0m\u001b[1;33m,\u001b[0m \u001b[1;34m'Analysis'\u001b[0m \u001b[1;33m+\u001b[0m \u001b[1;34m\".txt\"\u001b[0m\u001b[1;33m)\u001b[0m\u001b[1;33m\u001b[0m\u001b[1;33m\u001b[0m\u001b[0m\n\u001b[0;32m     61\u001b[0m \u001b[1;33m\u001b[0m\u001b[0m\n\u001b[1;32m---> 62\u001b[1;33m \u001b[1;32mwith\u001b[0m \u001b[0mopen\u001b[0m\u001b[1;33m(\u001b[0m\u001b[0moutput_file\u001b[0m\u001b[1;33m,\u001b[0m \u001b[1;34m'w'\u001b[0m\u001b[1;33m)\u001b[0m \u001b[1;32mas\u001b[0m \u001b[0mtxt_file\u001b[0m\u001b[1;33m:\u001b[0m\u001b[1;33m\u001b[0m\u001b[1;33m\u001b[0m\u001b[0m\n\u001b[0m\u001b[0;32m     63\u001b[0m     \u001b[0mtxt_file\u001b[0m\u001b[1;33m.\u001b[0m\u001b[0mwrite\u001b[0m\u001b[1;33m(\u001b[0m\u001b[1;34m\"Election Analysis\\n\"\u001b[0m\u001b[1;33m)\u001b[0m\u001b[1;33m\u001b[0m\u001b[1;33m\u001b[0m\u001b[0m\n\u001b[0;32m     64\u001b[0m     \u001b[0mtxt_file\u001b[0m\u001b[1;33m.\u001b[0m\u001b[0mwrite\u001b[0m\u001b[1;33m(\u001b[0m\u001b[1;34m\"\\n\"\u001b[0m\u001b[1;33m)\u001b[0m\u001b[1;33m\u001b[0m\u001b[1;33m\u001b[0m\u001b[0m\n",
      "\u001b[1;31mFileNotFoundError\u001b[0m: [Errno 2] No such file or directory: '../PyPoll/Analysis\\\\Analysis.txt'"
     ]
    }
   ],
   "source": [
    "with open (file=file,newline='') as csv_file:\n",
    "    csv_reader=csv.reader(csv_file, delimiter=',')\n",
    "    print(csv_reader)\n",
    "    \n",
    "#Read the first row header row\n",
    "    csv_header = next(csv_reader,None)\n",
    "    \n",
    "    election_data = ['1', '2']\n",
    "    \n",
    "#Define variables\n",
    "    vote_qty = 0\n",
    "    total_votes = []\n",
    "    candidates = []\n",
    "    \n",
    "#Calculate total quantity of votes\n",
    "    for row in (csv_reader):\n",
    "        vote_qty = vote_qty + 1\n",
    "        candidate = row[2]\n",
    "        \n",
    "#Figure out votes for candidate and add to vote total\n",
    "        if candidate in candidates:\n",
    "            candidate_index = candidates.index(candidate)\n",
    "            total_votes[candidate_index] = total_votes[candidate_index] + 1\n",
    "\n",
    "#If candidate is not located in list \n",
    "        else:\n",
    "            candidates.append(candidate)\n",
    "            total_votes.append(1)\n",
    "\n",
    "#Calculate total votes and determine winner\n",
    "    pct = []\n",
    "    max_votes = total_votes[0]\n",
    "    max_index = 0\n",
    "\n",
    "    for count in range(len(candidates)):\n",
    "        vote_pct = total_votes[count]/vote_qty*100\n",
    "        pct.append(vote_pct)\n",
    "    \n",
    "        if total_votes[count] > max_votes:\n",
    "            max_votes = total_votes[count]\n",
    "            print(max_votes)\n",
    "            max_index = count\n",
    "\n",
    "    election_winner = candidates[max_index]\n",
    "    \n",
    "#percentages = [round(i,2) for i in percentages]\n",
    "\n",
    "#Print to terminal\n",
    "print('Election Results')\n",
    "print('----------------------')\n",
    "print(f'Total Votes: {vote_qty}')\n",
    "for count in range(len(candidates)):\n",
    "      print(f'{candidates[count]} : {pct[count]:.3f}% ({total_votes[count]})')\n",
    "print('----------------------')\n",
    "print(f'Election Winner: {election_winner}')\n",
    "print('----------------------')\n",
    "\n",
    "#round(monthly_change, 2)))\n",
    "#Exports the results to text file\n",
    "output_file = os.path.join('../PyPoll/Analysis', 'Analysis' + \".txt\")\n",
    "\n",
    "with open(output_file, 'w') as txt_file:\n",
    "    txt_file.write(\"Election Analysis\\n\")\n",
    "    txt_file.write(\"\\n\")\n",
    "    txt_file.write(\"-----------------------\\n\")\n",
    "    txt_file.write(\"\\n\")\n",
    "    txt_file.write(f\"Total Votes: {vote_qty}\\n\")\n",
    "    for count in range(len(candidates)):\n",
    "        txt_file.write(f'{candidates[count]}: {pct[count]:.2f}% ({total_votes[count]})\\n')\n",
    "    txt_file.write(\"-----------------------\\n\")\n",
    "    txt_file.write(f\"Election Winner: {election_winner}\\n\")\n",
    "    txt_file.write(\"-----------------------\\n\")"
   ]
  },
  {
   "cell_type": "code",
   "execution_count": null,
   "id": "2f68d3bc",
   "metadata": {},
   "outputs": [],
   "source": []
  },
  {
   "cell_type": "code",
   "execution_count": null,
   "id": "67be0532",
   "metadata": {},
   "outputs": [],
   "source": []
  }
 ],
 "metadata": {
  "kernelspec": {
   "display_name": "Python 3",
   "language": "python",
   "name": "python3"
  },
  "language_info": {
   "codemirror_mode": {
    "name": "ipython",
    "version": 3
   },
   "file_extension": ".py",
   "mimetype": "text/x-python",
   "name": "python",
   "nbconvert_exporter": "python",
   "pygments_lexer": "ipython3",
   "version": "3.8.8"
  }
 },
 "nbformat": 4,
 "nbformat_minor": 5
}
