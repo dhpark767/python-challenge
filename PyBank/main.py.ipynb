{
 "cells": [
  {
   "cell_type": "code",
   "execution_count": 1,
   "id": "48a33b53",
   "metadata": {},
   "outputs": [],
   "source": [
    "#Import OS and CSV\n",
    "import os\n",
    "import csv\n",
    "cwd = os.getcwd()\n",
    "file = os.path.join(cwd, 'Resources', 'budget_data.csv')\n",
    "pathout = os.path.join('Resources', 'Financial_Analysis')"
   ]
  },
  {
   "cell_type": "code",
   "execution_count": 2,
   "id": "90e07b27",
   "metadata": {},
   "outputs": [
    {
     "name": "stdout",
     "output_type": "stream",
     "text": [
      "<_csv.reader object at 0x00000198F05A6B80>\n",
      "Financial Analysis\n",
      "\n",
      "---------------------\n",
      "\n",
      "Total Months:86\n",
      "Total Revenue:$38382578\n",
      "Average Change:$-2315.12\n",
      "Greatest Increase in Profits: Feb-2012 ($1926159)\n",
      "Greatest Decrease in Profits: Sep-2013 ($-2196167)\n"
     ]
    },
    {
     "ename": "FileNotFoundError",
     "evalue": "[Errno 2] No such file or directory: '../PyBank/Analysis\\\\Analysis.txt'",
     "output_type": "error",
     "traceback": [
      "\u001b[1;31m---------------------------------------------------------------------------\u001b[0m",
      "\u001b[1;31mFileNotFoundError\u001b[0m                         Traceback (most recent call last)",
      "\u001b[1;32m<ipython-input-2-6e5b9446e964>\u001b[0m in \u001b[0;36m<module>\u001b[1;34m\u001b[0m\n\u001b[0;32m     52\u001b[0m \u001b[0moutput_file\u001b[0m \u001b[1;33m=\u001b[0m \u001b[0mos\u001b[0m\u001b[1;33m.\u001b[0m\u001b[0mpath\u001b[0m\u001b[1;33m.\u001b[0m\u001b[0mjoin\u001b[0m\u001b[1;33m(\u001b[0m\u001b[1;34m'../PyBank/Analysis'\u001b[0m\u001b[1;33m,\u001b[0m \u001b[1;34m'Analysis'\u001b[0m \u001b[1;33m+\u001b[0m \u001b[1;34m\".txt\"\u001b[0m\u001b[1;33m)\u001b[0m\u001b[1;33m\u001b[0m\u001b[1;33m\u001b[0m\u001b[0m\n\u001b[0;32m     53\u001b[0m \u001b[1;33m\u001b[0m\u001b[0m\n\u001b[1;32m---> 54\u001b[1;33m \u001b[1;32mwith\u001b[0m \u001b[0mopen\u001b[0m\u001b[1;33m(\u001b[0m\u001b[0moutput_file\u001b[0m\u001b[1;33m,\u001b[0m \u001b[1;34m'w'\u001b[0m\u001b[1;33m)\u001b[0m \u001b[1;32mas\u001b[0m \u001b[0mtxt_file\u001b[0m\u001b[1;33m:\u001b[0m\u001b[1;33m\u001b[0m\u001b[1;33m\u001b[0m\u001b[0m\n\u001b[0m\u001b[0;32m     55\u001b[0m \u001b[1;33m\u001b[0m\u001b[0m\n\u001b[0;32m     56\u001b[0m     \u001b[0mtxt_file\u001b[0m\u001b[1;33m.\u001b[0m\u001b[0mwrite\u001b[0m\u001b[1;33m(\u001b[0m\u001b[1;34m\"Financial Analysis\\n\"\u001b[0m\u001b[1;33m)\u001b[0m\u001b[1;33m\u001b[0m\u001b[1;33m\u001b[0m\u001b[0m\n",
      "\u001b[1;31mFileNotFoundError\u001b[0m: [Errno 2] No such file or directory: '../PyBank/Analysis\\\\Analysis.txt'"
     ]
    }
   ],
   "source": [
    "with open (file=file,newline='') as csv_file:\n",
    "    csv_reader=csv.reader(csv_file, delimiter=',')\n",
    "    print(csv_reader)\n",
    "    \n",
    "#Read the first row header row\n",
    "    csv_header = next(csv_reader)\n",
    "    \n",
    "#Define variables in data set\n",
    "    month = []\n",
    "    revenue = []\n",
    "    monthly_change = []\n",
    "    revenue_change = []\n",
    "    \n",
    "#Calculate total amount of months\n",
    "    for row in csv_reader:\n",
    "        month.append(row[0])\n",
    "        revenue.append(row[1])\n",
    "        \n",
    "#Calculate the total revenue\n",
    "    revenue_int = map(int,revenue)\n",
    "    total_revenue = (sum(revenue_int))\n",
    "                     \n",
    "#Determine the average change in revenue (profit/loss)\n",
    "    i = 0\n",
    "    for i in range(len(revenue) - 1):\n",
    "        profit_loss = int(revenue[i+1]) - int(revenue[i])\n",
    "        revenue_change.append(profit_loss)\n",
    "    Total = sum(revenue_change)\n",
    "        \n",
    "#Calculate monthly change in revenue\n",
    "    monthly_change = Total / len(revenue_change)\n",
    "                     \n",
    "#Calculate profit increase/decrease\n",
    "    profit_increase = max(revenue_change)\n",
    "    k = revenue_change.index(profit_increase)\n",
    "    month_increase = month[k+1]\n",
    "                     \n",
    "    profit_decrease = min(revenue_change)\n",
    "    j = revenue_change.index(profit_decrease)\n",
    "    month_decrease = month[j+1]\n",
    "\n",
    "#Print output statements\n",
    "print(f'Financial Analysis'+'\\n')\n",
    "print(f'---------------------'+'\\n')\n",
    "print(f\"Total Months:\" + str(len(month)))\n",
    "print(\"Total Revenue:$\" + str(total_revenue))\n",
    "print(\"Average Change:$\" + str(round(monthly_change, 2)))\n",
    "print(f\"Greatest Increase in Profits: {month_increase} (${profit_increase})\")\n",
    "print(f\"Greatest Decrease in Profits: {month_decrease} (${profit_decrease})\")\n",
    "\n",
    "# Export the results to text file\n",
    "output_file = os.path.join('../PyBank/Analysis', 'Analysis' + \".txt\")\n",
    "\n",
    "with open(output_file, 'w') as txt_file:\n",
    "    \n",
    "    txt_file.write(\"Financial Analysis\\n\")\n",
    "    txt_file.write(\"\\n\")\n",
    "    txt_file.write(\"-----------------------------\\n\")\n",
    "    txt_file.write(\"\\n\")\n",
    "    txt_file.write(\"Total Months:\" + str(len(month)))\n",
    "    txt_file.write(\"\\n\")    \n",
    "    txt_file.write(\"Total Revenue:$\" + str(total_revenue))\n",
    "    txt_file.write(\"\\n\")  \n",
    "    txt_file.write(\"Average Change: $\" + str(round(monthly_change, 2)))\n",
    "    txt_file.write(\"\\n\")    \n",
    "    txt_file.write(f\"Greatest Increase in Profits: {month_increase} (${profit_increase})\")\n",
    "    txt_file.write(\"\\n\")    \n",
    "    txt_file.write(f\"Greatest Decrease in Profits: {month_decrease} (${profit_decrease})\")"
   ]
  },
  {
   "cell_type": "code",
   "execution_count": null,
   "id": "dbc27b6d",
   "metadata": {},
   "outputs": [],
   "source": []
  }
 ],
 "metadata": {
  "kernelspec": {
   "display_name": "Python 3",
   "language": "python",
   "name": "python3"
  },
  "language_info": {
   "codemirror_mode": {
    "name": "ipython",
    "version": 3
   },
   "file_extension": ".py",
   "mimetype": "text/x-python",
   "name": "python",
   "nbconvert_exporter": "python",
   "pygments_lexer": "ipython3",
   "version": "3.8.8"
  }
 },
 "nbformat": 4,
 "nbformat_minor": 5
}
